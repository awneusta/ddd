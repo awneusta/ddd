{
  "nbformat": 4,
  "nbformat_minor": 0,
  "metadata": {
    "colab": {
      "provenance": [],
      "authorship_tag": "ABX9TyN3+0KT5IBxLK7pXzA7jTY1",
      "include_colab_link": true
    },
    "kernelspec": {
      "name": "python3",
      "display_name": "Python 3"
    },
    "language_info": {
      "name": "python"
    }
  },
  "cells": [
    {
      "cell_type": "markdown",
      "metadata": {
        "id": "view-in-github",
        "colab_type": "text"
      },
      "source": [
        "<a href=\"https://colab.research.google.com/github/awneusta/ddd/blob/master/Untitled2.ipynb\" target=\"_parent\"><img src=\"https://colab.research.google.com/assets/colab-badge.svg\" alt=\"Open In Colab\"/></a>"
      ]
    },
    {
      "source": [
        "\n",
        "\n",
        "!lsof -i :5000|grep \"5000\" | awk '{print $2}' | xargs -r kill\n",
        "\n",
        "\n"
      ],
      "cell_type": "code",
      "metadata": {
        "id": "0dwH8Wn7TO7r"
      },
      "execution_count": 3,
      "outputs": []
    },
    {
      "source": [
        "from flask import Flask, request, jsonify\n",
        "from threading import Thread\n",
        "import re # Import the regular expression module\n",
        "\n",
        "app = Flask(__name__)\n",
        "\n",
        "# In-memory storage for rooms\n",
        "rooms = {}\n",
        "\n",
        "def is_valid_room_name(room_name):\n",
        "    \"\"\"Checks if a room name is valid (starts with 'MyNewRoom' followed by 4 digits).\"\"\"\n",
        "    # Use a regular expression to check the format\n",
        "    if not isinstance(room_name, str):\n",
        "        return False\n",
        "    return re.match(r'^MyNewRoom\\d{4}$', room_name) is not None\n",
        "\n",
        "@app.route('/create_room', methods=['POST'])\n",
        "def create_room():\n",
        "    \"\"\"Creates a new room.\"\"\"\n",
        "    data = request.get_json()\n",
        "    if not data or 'room_name' not in data:\n",
        "        return jsonify({'error': 'Missing room_name in request body'}), 400\n",
        "\n",
        "    room_name = data['room_name']\n",
        "\n",
        "    # Validate the room name format\n",
        "    if not is_valid_room_name(room_name):\n",
        "        return jsonify({'error': 'Invalid room_name format. Must be \"MyNewRoom\" followed by 4 digits.'}), 400\n",
        "\n",
        "    if room_name in rooms:\n",
        "        return jsonify({'error': f'Room \"{room_name}\" already exists'}), 409\n",
        "\n",
        "    rooms[room_name] = {'users': []} # Initialize room with an empty list of users\n",
        "    return jsonify({'message': f'Room \"{room_name}\" created successfully'}), 201\n",
        "\n",
        "@app.route('/get_rooms', methods=['GET'])\n",
        "def get_rooms():\n",
        "    \"\"\"Returns all existing rooms.\"\"\"\n",
        "    # No need to validate room names when just returning them\n",
        "    return jsonify({'rooms': rooms}), 200\n",
        "\n",
        "@app.route('/rooms/<room_name>/users', methods=['PUT'])\n",
        "def add_user_to_room(room_name):\n",
        "    \"\"\"Adds a user to a specific room.\"\"\"\n",
        "    # You might also want to validate the room_name here if it's part of the URL\n",
        "    # if not is_valid_room_name(room_name):\n",
        "    #     return jsonify({'error': 'Invalid room_name format in URL.'}), 400\n",
        "\n",
        "    data = request.get_json()\n",
        "    if not data or 'user_name' not in data:\n",
        "        return jsonify({'error': 'Missing user_name in request body'}), 400\n",
        "\n",
        "    user_name = data['user_name']\n",
        "\n",
        "    if room_name not in rooms:\n",
        "        return jsonify({'error': f'Room \"{room_name}\" not found'}), 404\n",
        "\n",
        "    if user_name in rooms[room_name]['users']:\n",
        "        return jsonify({'error': f'User \"{user_name}\" already in room \"{room_name}\"'}), 409\n",
        "\n",
        "    rooms[room_name]['users'].append(user_name)\n",
        "    return jsonify({'message': f'User \"{user_name}\" added to room \"{room_name}\"'}), 200\n",
        "\n",
        "# Start the Flask app in a separate thread.\n",
        "# You'll need to expose it using ngrok or a similar service if you want to access it from outside Colab.\n",
        "Thread(target=app.run, kwargs={'host': '0.0.0.0', 'port': 5000}).start()"
      ],
      "cell_type": "code",
      "metadata": {
        "colab": {
          "base_uri": "https://localhost:8080/"
        },
        "id": "ln9PJ-R81p6I",
        "outputId": "cdabb07a-5854-4feb-cce0-eb124c56d9da"
      },
      "execution_count": 5,
      "outputs": [
        {
          "output_type": "stream",
          "name": "stdout",
          "text": [
            " * Serving Flask app '__main__'\n",
            " * Debug mode: off\n"
          ]
        },
        {
          "output_type": "stream",
          "name": "stderr",
          "text": [
            "INFO:werkzeug:\u001b[31m\u001b[1mWARNING: This is a development server. Do not use it in a production deployment. Use a production WSGI server instead.\u001b[0m\n",
            " * Running on all addresses (0.0.0.0)\n",
            " * Running on http://127.0.0.1:5000\n",
            " * Running on http://172.28.0.12:5000\n",
            "INFO:werkzeug:\u001b[33mPress CTRL+C to quit\u001b[0m\n"
          ]
        }
      ]
    },
    {
      "source": [
        "\n",
        "# Einen Raum Anlegen:\n",
        "\n",
        "command = \"\"\"\n",
        "curl -X POST -H \"Content-Type: application/json\" -d '\n",
        "{\n",
        "  \"room_name\": \"MyNewRoom000\"\n",
        "}\n",
        "' \\\n",
        "http://127.0.0.1:5000/create_room\n",
        "\"\"\"\n",
        "\n",
        "!{command}\n",
        "\n",
        "\n"
      ],
      "cell_type": "code",
      "metadata": {
        "colab": {
          "base_uri": "https://localhost:8080/"
        },
        "id": "YN0AkeFPHUDN",
        "outputId": "0228464f-71ce-4b50-b3ff-90c35577ff78"
      },
      "execution_count": 6,
      "outputs": [
        {
          "output_type": "stream",
          "name": "stderr",
          "text": [
            "INFO:werkzeug:127.0.0.1 - - [07/Jun/2025 05:37:43] \"\u001b[31m\u001b[1mPOST /create_room HTTP/1.1\u001b[0m\" 400 -\n"
          ]
        },
        {
          "output_type": "stream",
          "name": "stdout",
          "text": [
            "{\"error\":\"Invalid room_name format. Must be \\\"MyNewRoom\\\" followed by 4 digits.\"}\n"
          ]
        }
      ]
    },
    {
      "source": [
        "import time\n",
        "\n",
        "# List of room names to create\n",
        "room_names = [\"MyNewRoom1234\", \"MyNewRoom2345\", \"MyNewRoom3456\", \"MyNewRoom4567\"]\n",
        "\n",
        "for room_name in room_names:\n",
        "    command = f\"\"\"\n",
        "curl -iX POST -H \"Content-Type: application/json\" -d '\n",
        "{{\"room_name\": \"{room_name}\"}}\n",
        "' http://127.0.0.1:5000/create_room\n",
        "\"\"\"\n",
        "    print(f\"Creating room: {room_name}\")\n",
        "    !{command}\n",
        "    # Optional: Add a small delay between requests to avoid potential issues\n",
        "    time.sleep(1)"
      ],
      "cell_type": "code",
      "metadata": {
        "colab": {
          "base_uri": "https://localhost:8080/"
        },
        "id": "L_Bgyt1ltQy-",
        "outputId": "071e83f1-8130-47a8-be8f-0922145d1c52"
      },
      "execution_count": 8,
      "outputs": [
        {
          "output_type": "stream",
          "name": "stderr",
          "text": [
            "INFO:werkzeug:127.0.0.1 - - [07/Jun/2025 05:38:37] \"\u001b[35m\u001b[1mPOST /create_room HTTP/1.1\u001b[0m\" 201 -\n"
          ]
        },
        {
          "output_type": "stream",
          "name": "stdout",
          "text": [
            "Creating room: MyNewRoom1234\n",
            "HTTP/1.1 201 CREATED\r\n",
            "\u001b[1mServer\u001b[0m: Werkzeug/3.1.3 Python/3.11.13\r\n",
            "\u001b[1mDate\u001b[0m: Sat, 07 Jun 2025 05:38:37 GMT\r\n",
            "\u001b[1mContent-Type\u001b[0m: application/json\r\n",
            "\u001b[1mContent-Length\u001b[0m: 58\r\n",
            "\u001b[1mConnection\u001b[0m: close\r\n",
            "\r\n",
            "{\"message\":\"Room \\\"MyNewRoom1234\\\" created successfully\"}\n"
          ]
        },
        {
          "output_type": "stream",
          "name": "stderr",
          "text": [
            "INFO:werkzeug:127.0.0.1 - - [07/Jun/2025 05:38:38] \"\u001b[35m\u001b[1mPOST /create_room HTTP/1.1\u001b[0m\" 201 -\n"
          ]
        },
        {
          "output_type": "stream",
          "name": "stdout",
          "text": [
            "Creating room: MyNewRoom2345\n",
            "HTTP/1.1 201 CREATED\r\n",
            "\u001b[1mServer\u001b[0m: Werkzeug/3.1.3 Python/3.11.13\r\n",
            "\u001b[1mDate\u001b[0m: Sat, 07 Jun 2025 05:38:38 GMT\r\n",
            "\u001b[1mContent-Type\u001b[0m: application/json\r\n",
            "\u001b[1mContent-Length\u001b[0m: 58\r\n",
            "\u001b[1mConnection\u001b[0m: close\r\n",
            "\r\n",
            "{\"message\":\"Room \\\"MyNewRoom2345\\\" created successfully\"}\n"
          ]
        },
        {
          "output_type": "stream",
          "name": "stderr",
          "text": [
            "INFO:werkzeug:127.0.0.1 - - [07/Jun/2025 05:38:39] \"\u001b[35m\u001b[1mPOST /create_room HTTP/1.1\u001b[0m\" 201 -\n"
          ]
        },
        {
          "output_type": "stream",
          "name": "stdout",
          "text": [
            "Creating room: MyNewRoom3456\n",
            "HTTP/1.1 201 CREATED\r\n",
            "\u001b[1mServer\u001b[0m: Werkzeug/3.1.3 Python/3.11.13\r\n",
            "\u001b[1mDate\u001b[0m: Sat, 07 Jun 2025 05:38:39 GMT\r\n",
            "\u001b[1mContent-Type\u001b[0m: application/json\r\n",
            "\u001b[1mContent-Length\u001b[0m: 58\r\n",
            "\u001b[1mConnection\u001b[0m: close\r\n",
            "\r\n",
            "{\"message\":\"Room \\\"MyNewRoom3456\\\" created successfully\"}\n"
          ]
        },
        {
          "output_type": "stream",
          "name": "stderr",
          "text": [
            "INFO:werkzeug:127.0.0.1 - - [07/Jun/2025 05:38:40] \"\u001b[35m\u001b[1mPOST /create_room HTTP/1.1\u001b[0m\" 201 -\n"
          ]
        },
        {
          "output_type": "stream",
          "name": "stdout",
          "text": [
            "Creating room: MyNewRoom4567\n",
            "HTTP/1.1 201 CREATED\r\n",
            "\u001b[1mServer\u001b[0m: Werkzeug/3.1.3 Python/3.11.13\r\n",
            "\u001b[1mDate\u001b[0m: Sat, 07 Jun 2025 05:38:40 GMT\r\n",
            "\u001b[1mContent-Type\u001b[0m: application/json\r\n",
            "\u001b[1mContent-Length\u001b[0m: 58\r\n",
            "\u001b[1mConnection\u001b[0m: close\r\n",
            "\r\n",
            "{\"message\":\"Room \\\"MyNewRoom4567\\\" created successfully\"}\n"
          ]
        }
      ]
    },
    {
      "cell_type": "code",
      "source": [
        "\n",
        "\n",
        "\n",
        "!curl http://127.0.0.1:5000/get_rooms | jq .\n",
        "#!apt-get install jq\n",
        "\n",
        "\n"
      ],
      "metadata": {
        "colab": {
          "base_uri": "https://localhost:8080/"
        },
        "id": "Vi-lzFwjhid6",
        "outputId": "c6002567-8c4b-4753-9e6f-1686d27d04eb"
      },
      "execution_count": 17,
      "outputs": [
        {
          "output_type": "stream",
          "name": "stderr",
          "text": [
            "INFO:werkzeug:127.0.0.1 - - [07/Jun/2025 05:44:04] \"GET /get_rooms HTTP/1.1\" 200 -\n"
          ]
        },
        {
          "output_type": "stream",
          "name": "stdout",
          "text": [
            "  % Total    % Received % Xferd  Average Speed   Time    Time     Time  Current\n",
            "                                 Dload  Upload   Total   Spent    Left  Speed\n",
            "\r  0     0    0     0    0     0      0      0 --:--:-- --:--:-- --:--:--     0\r100   296  100   296    0     0  48302      0 --:--:-- --:--:-- --:--:-- 59200\n",
            "\u001b[1;39m{\n",
            "  \u001b[0m\u001b[34;1m\"rooms\"\u001b[0m\u001b[1;39m: \u001b[0m\u001b[1;39m{\n",
            "    \u001b[0m\u001b[34;1m\"MyNewRoom1234\"\u001b[0m\u001b[1;39m: \u001b[0m\u001b[1;39m{\n",
            "      \u001b[0m\u001b[34;1m\"users\"\u001b[0m\u001b[1;39m: \u001b[0m\u001b[1;39m[\n",
            "        \u001b[0;32m\"User1\"\u001b[0m\u001b[1;39m,\n",
            "        \u001b[0;32m\"User5\"\u001b[0m\u001b[1;39m,\n",
            "        \u001b[0;32m\"User9\"\u001b[0m\u001b[1;39m,\n",
            "        \u001b[0;32m\"Useqr1\"\u001b[0m\u001b[1;39m,\n",
            "        \u001b[0;32m\"Useqr5\"\u001b[0m\u001b[1;39m,\n",
            "        \u001b[0;32m\"Useqr9\"\u001b[0m\u001b[1;39m\n",
            "      \u001b[1;39m]\u001b[0m\u001b[1;39m\n",
            "    \u001b[1;39m}\u001b[0m\u001b[1;39m,\n",
            "    \u001b[0m\u001b[34;1m\"MyNewRoom2345\"\u001b[0m\u001b[1;39m: \u001b[0m\u001b[1;39m{\n",
            "      \u001b[0m\u001b[34;1m\"users\"\u001b[0m\u001b[1;39m: \u001b[0m\u001b[1;39m[\n",
            "        \u001b[0;32m\"User2\"\u001b[0m\u001b[1;39m,\n",
            "        \u001b[0;32m\"User6\"\u001b[0m\u001b[1;39m,\n",
            "        \u001b[0;32m\"User10\"\u001b[0m\u001b[1;39m,\n",
            "        \u001b[0;32m\"Useqr2\"\u001b[0m\u001b[1;39m,\n",
            "        \u001b[0;32m\"Useqr6\"\u001b[0m\u001b[1;39m,\n",
            "        \u001b[0;32m\"Useqr10\"\u001b[0m\u001b[1;39m\n",
            "      \u001b[1;39m]\u001b[0m\u001b[1;39m\n",
            "    \u001b[1;39m}\u001b[0m\u001b[1;39m,\n",
            "    \u001b[0m\u001b[34;1m\"MyNewRoom3456\"\u001b[0m\u001b[1;39m: \u001b[0m\u001b[1;39m{\n",
            "      \u001b[0m\u001b[34;1m\"users\"\u001b[0m\u001b[1;39m: \u001b[0m\u001b[1;39m[\n",
            "        \u001b[0;32m\"User3\"\u001b[0m\u001b[1;39m,\n",
            "        \u001b[0;32m\"User7\"\u001b[0m\u001b[1;39m,\n",
            "        \u001b[0;32m\"Useqr3\"\u001b[0m\u001b[1;39m,\n",
            "        \u001b[0;32m\"Useqr7\"\u001b[0m\u001b[1;39m\n",
            "      \u001b[1;39m]\u001b[0m\u001b[1;39m\n",
            "    \u001b[1;39m}\u001b[0m\u001b[1;39m,\n",
            "    \u001b[0m\u001b[34;1m\"MyNewRoom4567\"\u001b[0m\u001b[1;39m: \u001b[0m\u001b[1;39m{\n",
            "      \u001b[0m\u001b[34;1m\"users\"\u001b[0m\u001b[1;39m: \u001b[0m\u001b[1;39m[\n",
            "        \u001b[0;32m\"User4\"\u001b[0m\u001b[1;39m,\n",
            "        \u001b[0;32m\"User8\"\u001b[0m\u001b[1;39m,\n",
            "        \u001b[0;32m\"Useqr4\"\u001b[0m\u001b[1;39m,\n",
            "        \u001b[0;32m\"Useqr8\"\u001b[0m\u001b[1;39m\n",
            "      \u001b[1;39m]\u001b[0m\u001b[1;39m\n",
            "    \u001b[1;39m}\u001b[0m\u001b[1;39m\n",
            "  \u001b[1;39m}\u001b[0m\u001b[1;39m\n",
            "\u001b[1;39m}\u001b[0m\n"
          ]
        }
      ]
    },
    {
      "source": [
        "!curl -X PUT -H \"Content-Type: application/json\" -d '{\"user_name\": \"Alice\"}' http://127.0.0.1:5000/rooms/MyNewRoom1234/users\n",
        "!curl -X PUT -H \"Content-Type: application/json\" -d '{\"user_name\": \"Bob1\"}' http://127.0.0.1:5000/rooms/MyNewRoom2345/users\n",
        "!curl -X PUT -H \"Content-Type: application/json\" -d '{\"user_name\": \"Bob2\"}' http://127.0.0.1:5000/rooms/MyNewRoom2/users\n",
        "!curl -X PUT -H \"Content-Type: application/json\" -d '{\"user_name\": \"Bob3\"}' http://127.0.0.1:5000/rooms/MyNewRoom2/users"
      ],
      "cell_type": "code",
      "metadata": {
        "colab": {
          "base_uri": "https://localhost:8080/"
        },
        "id": "aeZ9UgNv0k8C",
        "outputId": "4efcbab9-b60b-49b6-de6e-48586c806dc5"
      },
      "execution_count": 10,
      "outputs": [
        {
          "output_type": "stream",
          "name": "stderr",
          "text": [
            "INFO:werkzeug:127.0.0.1 - - [07/Jun/2025 05:38:51] \"\u001b[33mPUT /rooms/MyNewRoom1/users HTTP/1.1\u001b[0m\" 404 -\n"
          ]
        },
        {
          "output_type": "stream",
          "name": "stdout",
          "text": [
            "{\"error\":\"Room \\\"MyNewRoom1\\\" not found\"}\n"
          ]
        },
        {
          "output_type": "stream",
          "name": "stderr",
          "text": [
            "INFO:werkzeug:127.0.0.1 - - [07/Jun/2025 05:38:51] \"\u001b[33mPUT /rooms/MyNewRoom2/users HTTP/1.1\u001b[0m\" 404 -\n"
          ]
        },
        {
          "output_type": "stream",
          "name": "stdout",
          "text": [
            "{\"error\":\"Room \\\"MyNewRoom2\\\" not found\"}\n"
          ]
        },
        {
          "output_type": "stream",
          "name": "stderr",
          "text": [
            "INFO:werkzeug:127.0.0.1 - - [07/Jun/2025 05:38:51] \"\u001b[33mPUT /rooms/MyNewRoom2/users HTTP/1.1\u001b[0m\" 404 -\n"
          ]
        },
        {
          "output_type": "stream",
          "name": "stdout",
          "text": [
            "{\"error\":\"Room \\\"MyNewRoom2\\\" not found\"}\n"
          ]
        },
        {
          "output_type": "stream",
          "name": "stderr",
          "text": [
            "INFO:werkzeug:127.0.0.1 - - [07/Jun/2025 05:38:51] \"\u001b[33mPUT /rooms/MyNewRoom2/users HTTP/1.1\u001b[0m\" 404 -\n"
          ]
        },
        {
          "output_type": "stream",
          "name": "stdout",
          "text": [
            "{\"error\":\"Room \\\"MyNewRoom2\\\" not found\"}\n"
          ]
        }
      ]
    },
    {
      "source": [
        "import time\n",
        "import requests\n",
        "\n",
        "try:\n",
        "    response = requests.get(\"http://127.0.0.1:5000/get_rooms\")\n",
        "    response.raise_for_status()\n",
        "    room_data = response.json()\n",
        "    room_names = list(room_data.get('rooms', {}).keys())\n",
        "    if not room_names:\n",
        "        print(\"No rooms found. Please create some rooms first.\")\n",
        "except requests.exceptions.RequestException as e:\n",
        "    print(f\"Error fetching rooms: {e}\")\n",
        "    room_names = []\n",
        "\n",
        "user_names = [f\"Useqr{i+1}\" for i in range(10)]\n",
        "\n",
        "if room_names:\n",
        "    for i, user_name in enumerate(user_names):\n",
        "        room_index = i % len(room_names)\n",
        "        target_room = room_names[room_index]\n",
        "\n",
        "        url = f\"http://127.0.0.1:5000/rooms/{target_room}/users\"\n",
        "        payload = {\"user_name\": user_name}\n",
        "\n",
        "        try:\n",
        "            put_response = requests.put(url, json=payload)\n",
        "            put_response.raise_for_status()\n",
        "            print(f\"Added user '{user_name}' to room '{target_room}'\")\n",
        "            print(put_response.json())\n",
        "        except requests.exceptions.RequestException as e:\n",
        "            print(f\"Error adding user '{user_name}' to room '{target_room}': {e}\")\n",
        "\n",
        "        time.sleep(0.5)\n",
        "else:\n",
        "    print(\"Cannot add users as no rooms are available.\")"
      ],
      "cell_type": "code",
      "metadata": {
        "colab": {
          "base_uri": "https://localhost:8080/"
        },
        "id": "rt5LahGa1GUx",
        "outputId": "8ec42d77-f2a4-495c-88cb-d5f5432b7fe7"
      },
      "execution_count": 16,
      "outputs": [
        {
          "output_type": "stream",
          "name": "stderr",
          "text": [
            "INFO:werkzeug:127.0.0.1 - - [07/Jun/2025 05:43:53] \"GET /get_rooms HTTP/1.1\" 200 -\n",
            "INFO:werkzeug:127.0.0.1 - - [07/Jun/2025 05:43:53] \"PUT /rooms/MyNewRoom1234/users HTTP/1.1\" 200 -\n"
          ]
        },
        {
          "output_type": "stream",
          "name": "stdout",
          "text": [
            "Added user 'Useqr1' to room 'MyNewRoom1234'\n",
            "{'message': 'User \"Useqr1\" added to room \"MyNewRoom1234\"'}\n"
          ]
        },
        {
          "output_type": "stream",
          "name": "stderr",
          "text": [
            "INFO:werkzeug:127.0.0.1 - - [07/Jun/2025 05:43:54] \"PUT /rooms/MyNewRoom2345/users HTTP/1.1\" 200 -\n"
          ]
        },
        {
          "output_type": "stream",
          "name": "stdout",
          "text": [
            "Added user 'Useqr2' to room 'MyNewRoom2345'\n",
            "{'message': 'User \"Useqr2\" added to room \"MyNewRoom2345\"'}\n"
          ]
        },
        {
          "output_type": "stream",
          "name": "stderr",
          "text": [
            "INFO:werkzeug:127.0.0.1 - - [07/Jun/2025 05:43:54] \"PUT /rooms/MyNewRoom3456/users HTTP/1.1\" 200 -\n"
          ]
        },
        {
          "output_type": "stream",
          "name": "stdout",
          "text": [
            "Added user 'Useqr3' to room 'MyNewRoom3456'\n",
            "{'message': 'User \"Useqr3\" added to room \"MyNewRoom3456\"'}\n"
          ]
        },
        {
          "output_type": "stream",
          "name": "stderr",
          "text": [
            "INFO:werkzeug:127.0.0.1 - - [07/Jun/2025 05:43:55] \"PUT /rooms/MyNewRoom4567/users HTTP/1.1\" 200 -\n"
          ]
        },
        {
          "output_type": "stream",
          "name": "stdout",
          "text": [
            "Added user 'Useqr4' to room 'MyNewRoom4567'\n",
            "{'message': 'User \"Useqr4\" added to room \"MyNewRoom4567\"'}\n"
          ]
        },
        {
          "output_type": "stream",
          "name": "stderr",
          "text": [
            "INFO:werkzeug:127.0.0.1 - - [07/Jun/2025 05:43:55] \"PUT /rooms/MyNewRoom1234/users HTTP/1.1\" 200 -\n"
          ]
        },
        {
          "output_type": "stream",
          "name": "stdout",
          "text": [
            "Added user 'Useqr5' to room 'MyNewRoom1234'\n",
            "{'message': 'User \"Useqr5\" added to room \"MyNewRoom1234\"'}\n"
          ]
        },
        {
          "output_type": "stream",
          "name": "stderr",
          "text": [
            "INFO:werkzeug:127.0.0.1 - - [07/Jun/2025 05:43:56] \"PUT /rooms/MyNewRoom2345/users HTTP/1.1\" 200 -\n"
          ]
        },
        {
          "output_type": "stream",
          "name": "stdout",
          "text": [
            "Added user 'Useqr6' to room 'MyNewRoom2345'\n",
            "{'message': 'User \"Useqr6\" added to room \"MyNewRoom2345\"'}\n"
          ]
        },
        {
          "output_type": "stream",
          "name": "stderr",
          "text": [
            "INFO:werkzeug:127.0.0.1 - - [07/Jun/2025 05:43:56] \"PUT /rooms/MyNewRoom3456/users HTTP/1.1\" 200 -\n"
          ]
        },
        {
          "output_type": "stream",
          "name": "stdout",
          "text": [
            "Added user 'Useqr7' to room 'MyNewRoom3456'\n",
            "{'message': 'User \"Useqr7\" added to room \"MyNewRoom3456\"'}\n"
          ]
        },
        {
          "output_type": "stream",
          "name": "stderr",
          "text": [
            "INFO:werkzeug:127.0.0.1 - - [07/Jun/2025 05:43:57] \"PUT /rooms/MyNewRoom4567/users HTTP/1.1\" 200 -\n"
          ]
        },
        {
          "output_type": "stream",
          "name": "stdout",
          "text": [
            "Added user 'Useqr8' to room 'MyNewRoom4567'\n",
            "{'message': 'User \"Useqr8\" added to room \"MyNewRoom4567\"'}\n"
          ]
        },
        {
          "output_type": "stream",
          "name": "stderr",
          "text": [
            "INFO:werkzeug:127.0.0.1 - - [07/Jun/2025 05:43:57] \"PUT /rooms/MyNewRoom1234/users HTTP/1.1\" 200 -\n"
          ]
        },
        {
          "output_type": "stream",
          "name": "stdout",
          "text": [
            "Added user 'Useqr9' to room 'MyNewRoom1234'\n",
            "{'message': 'User \"Useqr9\" added to room \"MyNewRoom1234\"'}\n"
          ]
        },
        {
          "output_type": "stream",
          "name": "stderr",
          "text": [
            "INFO:werkzeug:127.0.0.1 - - [07/Jun/2025 05:43:58] \"PUT /rooms/MyNewRoom2345/users HTTP/1.1\" 200 -\n"
          ]
        },
        {
          "output_type": "stream",
          "name": "stdout",
          "text": [
            "Added user 'Useqr10' to room 'MyNewRoom2345'\n",
            "{'message': 'User \"Useqr10\" added to room \"MyNewRoom2345\"'}\n"
          ]
        }
      ]
    }
  ]
}